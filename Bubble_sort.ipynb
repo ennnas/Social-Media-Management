{
 "cells": [
  {
   "cell_type": "code",
   "execution_count": 65,
   "metadata": {
    "collapsed": false
   },
   "outputs": [],
   "source": [
    "import string\n",
    "import io\n",
    "\n",
    "def bubble_sort_string(list):\n",
    "    done = False #finisce prima se gli elementi sono ordinati prima di tutti gli swap\n",
    "    size = len(list)-1\n",
    "    while size>0 and not done:\n",
    "        done = True;\n",
    "        for i in range(size):\n",
    "            if ord(list[i][1])>ord(list[i+1][1]):\n",
    "                tmp=list[i]\n",
    "                list[i]=list[i+1]\n",
    "                list[i+1]=tmp\n",
    "                done = False\n",
    "        size=size-1"
   ]
  },
  {
   "cell_type": "code",
   "execution_count": 66,
   "metadata": {
    "collapsed": false
   },
   "outputs": [
    {
     "name": "stdout",
     "output_type": "stream",
     "text": [
      "Dimensione vettore: 3\n",
      "Stringa: zzzzz\n",
      "Stringa: aaaa\n",
      "Stringa: AAAA\n"
     ]
    }
   ],
   "source": [
    "array = []\n",
    "N = int(input(\"Dimensione vettore: \")) \n",
    "for i in range(N):\n",
    "    while True:\n",
    "        text = input(\"Stringa: \")\n",
    "        if len(text)>2:\n",
    "            break\n",
    "    array.append(text)"
   ]
  },
  {
   "cell_type": "code",
   "execution_count": 67,
   "metadata": {
    "collapsed": false
   },
   "outputs": [
    {
     "name": "stdout",
     "output_type": "stream",
     "text": [
      "['zzzzz', 'aaaa', 'AAAA']\n",
      "['AAAA', 'aaaa', 'zzzzz']\n"
     ]
    }
   ],
   "source": [
    "print(array)\n",
    "bubble_sort_string(array)\n",
    "print(array)"
   ]
  }
 ],
 "metadata": {
  "anaconda-cloud": {},
  "kernelspec": {
   "display_name": "Python [default]",
   "language": "python",
   "name": "python3"
  },
  "language_info": {
   "codemirror_mode": {
    "name": "ipython",
    "version": 3
   },
   "file_extension": ".py",
   "mimetype": "text/x-python",
   "name": "python",
   "nbconvert_exporter": "python",
   "pygments_lexer": "ipython3",
   "version": "3.5.2"
  }
 },
 "nbformat": 4,
 "nbformat_minor": 1
}
