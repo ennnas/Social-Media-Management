{
 "cells": [
  {
   "cell_type": "code",
   "execution_count": 109,
   "metadata": {
    "collapsed": false
   },
   "outputs": [],
   "source": [
    "import string\n",
    "import io\n",
    "import numpy as np"
   ]
  },
  {
   "cell_type": "code",
   "execution_count": 110,
   "metadata": {
    "collapsed": false
   },
   "outputs": [],
   "source": [
    "A = np.array([[2,4,7],[9,2,8]])\n",
    "B = np.array([[2,4],[1,5],[7,6]])\n",
    "E = np.array([2,7,9])\n",
    "F = np.array([2,7,9])"
   ]
  },
  {
   "cell_type": "code",
   "execution_count": 111,
   "metadata": {
    "collapsed": false
   },
   "outputs": [],
   "source": [
    "C = np.dot(A,B)\n",
    "D = np.dot(A[1:],B)\n",
    "G = E.dot(np.array([F]).T)\n",
    "H = E.reshape(3,1).dot([F])"
   ]
  },
  {
   "cell_type": "code",
   "execution_count": 112,
   "metadata": {
    "collapsed": false
   },
   "outputs": [
    {
     "name": "stdout",
     "output_type": "stream",
     "text": [
      "[[57 70]\n",
      " [76 94]]\n",
      "[[76 94]]\n",
      "[134]\n",
      "[[ 4 14 18]\n",
      " [14 49 63]\n",
      " [18 63 81]]\n"
     ]
    }
   ],
   "source": [
    "print(C)\n",
    "print(D)\n",
    "print(G)\n",
    "print(H)"
   ]
  }
 ],
 "metadata": {
  "anaconda-cloud": {},
  "kernelspec": {
   "display_name": "Python [conda root]",
   "language": "python",
   "name": "conda-root-py"
  },
  "language_info": {
   "codemirror_mode": {
    "name": "ipython",
    "version": 3
   },
   "file_extension": ".py",
   "mimetype": "text/x-python",
   "name": "python",
   "nbconvert_exporter": "python",
   "pygments_lexer": "ipython3",
   "version": "3.5.2"
  }
 },
 "nbformat": 4,
 "nbformat_minor": 1
}
