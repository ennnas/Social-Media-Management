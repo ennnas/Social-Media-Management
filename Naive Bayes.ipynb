{
 "cells": [
  {
   "cell_type": "markdown",
   "metadata": {},
   "source": [
    "# Naive Bayes"
   ]
  },
  {
   "cell_type": "code",
   "execution_count": null,
   "metadata": {
    "collapsed": true
   },
   "outputs": [],
   "source": [
    "from collections import Counter\n",
    "\n",
    "class naive_bayes:\n",
    "    #come argomenti self e i due dataset X e Y\n",
    "    def __init__(self,X_set,y_set):\n",
    "        self.X = np.array(X_set)\n",
    "        self.y = np.array(y_set)\n",
    "        self.V = X_set.shape[1]\n",
    "\n",
    "    def fit(self):\n",
    "        #conta il numero di classi totali\n",
    "        self.counter = Counter(self.y)\n",
    "        #calcola la probabilità di ogni singola classe\n",
    "        self.Prob_cj = [cl/float(len(self.y)) for cl in self.counter.values()]\n",
    "    \n",
    "    def predict(self,img):\n",
    "        probability = []\n",
    "        # per ogni classe \n",
    "        for cl in self.counter:\n",
    "            Prob_words = []\n",
    "            # e per ogni feature \n",
    "            for feature in range(self.V):\n",
    "                # calcola la probabilità P(Vt|Cj) per ogni parola \n",
    "                Prob_words.append( (1+np.sum(self.X[i,feature] for i, x in enumerate(self.y) if x==cl))/ \\\n",
    "                                  (self.V + np.sum(self.X[i,:] for i, x in enumerate(self.y) if x==cl)) )\n",
    "            # salva la probabilità della classe cl date le feature della immagine img\n",
    "            probability.append( np.log(self.Prob_cj[cl]) + np.sum(img*np.log(Prob_words).T) )\n",
    "        return np.argmax(probability)"
   ]
  }
 ],
 "metadata": {
  "kernelspec": {
   "display_name": "Python [default]",
   "language": "python",
   "name": "python3"
  },
  "language_info": {
   "codemirror_mode": {
    "name": "ipython",
    "version": 3
   },
   "file_extension": ".py",
   "mimetype": "text/x-python",
   "name": "python",
   "nbconvert_exporter": "python",
   "pygments_lexer": "ipython3",
   "version": "3.5.2"
  }
 },
 "nbformat": 4,
 "nbformat_minor": 1
}
